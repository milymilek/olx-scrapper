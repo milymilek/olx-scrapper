{
 "cells": [
  {
   "cell_type": "code",
   "execution_count": null,
   "id": "77677261-3de1-424a-a037-42585eef1853",
   "metadata": {},
   "outputs": [],
   "source": [
    "from selenium import webdriver\n",
    "import chromedriver_binary\n",
    "from selenium.webdriver.common.by import By\n",
    "import re\n",
    "import copy\n",
    "from datetime import datetime\n",
    "import time\n",
    "import telegram_send\n",
    "import requests"
   ]
  },
  {
   "cell_type": "code",
   "execution_count": null,
   "id": "c8002644-f6b0-4fa0-98f3-a1979c170cd1",
   "metadata": {},
   "outputs": [],
   "source": [
    "hour_reg = re.compile(\"(0[0-9]|1[0-9]|2[0-3]):[0-5][0-9]\")"
   ]
  },
  {
   "cell_type": "code",
   "execution_count": null,
   "id": "3c8606f8-f270-4618-8cec-de7b45cbd765",
   "metadata": {},
   "outputs": [],
   "source": [
    "url = \"https://www.olx.pl/d/nieruchomosci/stancje-pokoje/krakow/q-pok%C3%B3j/?search%5Border%5D=created_at:desc\" \n",
    "\n",
    "driver = webdriver.Chrome(executable_path=r'C:\\Users\\Milosz\\Desktop\\chromedriver_win32\\chromedriver.exe')\n",
    "driver.get(url)"
   ]
  },
  {
   "cell_type": "code",
   "execution_count": null,
   "id": "25ad2e59-99e1-4d59-a249-3849747c89d0",
   "metadata": {},
   "outputs": [],
   "source": [
    "cookie_handler = driver.find_element(By.ID, \"onetrust-accept-btn-handler\")\n",
    "cookie_handler.click()"
   ]
  },
  {
   "cell_type": "code",
   "execution_count": null,
   "id": "4beec79b-a469-4b61-b893-a4b1fa6e7407",
   "metadata": {},
   "outputs": [],
   "source": [
    "# BEGIN:\n",
    "offers = driver.find_elements(By.CLASS_NAME, \"css-19ucd76\")\n",
    "dates = []\n",
    "for o in offers: \n",
    "    try:\n",
    "        date_details = o.find_element(By.CSS_SELECTOR, \"p.css-p6wsjo-Text.eu5v0x0\")\n",
    "        dates.append(date_details.text)\n",
    "    except Exception:\n",
    "        pass\n",
    "\n",
    "buffer = copy.copy(offers)\n",
    "buffer_text = [b.text for b in buffer]"
   ]
  },
  {
   "cell_type": "code",
   "execution_count": null,
   "id": "4e0f9420-40ea-47a6-bc84-8c9a6d0e8b48",
   "metadata": {},
   "outputs": [],
   "source": [
    "telegram_group_id = '-627491859'\n",
    "authentication_token = '5798349801:AAFSas7UHkLtgrkeb2-JN6J0KvYt1yHIlV4'"
   ]
  },
  {
   "cell_type": "code",
   "execution_count": null,
   "id": "a2c21703-916b-4fa2-abcd-afdb590a7a79",
   "metadata": {},
   "outputs": [],
   "source": [
    "while True:\n",
    "    print(\"searching...\")\n",
    "    offers = driver.find_elements(By.CLASS_NAME, \"css-19ucd76\")\n",
    "    for o in offers:\n",
    "        try:\n",
    "            if (o.text not in buffer_text) and (re.search(r\"Dzisiaj\", o.text)) and (not re.search(r'Odświeżono', o.text)):\n",
    "                buffer.insert(0, o)\n",
    "                buffer_text.insert(0, o.text)\n",
    "                found = hour_reg.search(o.text)\n",
    "                print(found.group())\n",
    "                print(o.text, \"CURRENT_TIME:\", datetime.now())\n",
    "                found_url = o.find_element(By.CSS_SELECTOR, \"a.css-1bbgabe\").get_attribute('href')\n",
    "                #telegram_send.send(messages=[found.group(), found_url])\n",
    "                message = f'{found.group()}, {found_url}'\n",
    "                url_telegram = f'https://api.telegram.org/bot{authentication_token}/sendMessage?chat_id={telegram_group_id}&text={message}'\n",
    "                out = requests.get(url_telegram)\n",
    "        except Exception:\n",
    "            pass\n",
    "    time.sleep(60)\n",
    "    driver.refresh()"
   ]
  }
 ],
 "metadata": {
  "kernelspec": {
   "display_name": "Python 3 (ipykernel)",
   "language": "python",
   "name": "python3"
  },
  "language_info": {
   "codemirror_mode": {
    "name": "ipython",
    "version": 3
   },
   "file_extension": ".py",
   "mimetype": "text/x-python",
   "name": "python",
   "nbconvert_exporter": "python",
   "pygments_lexer": "ipython3",
   "version": "3.9.7"
  }
 },
 "nbformat": 4,
 "nbformat_minor": 5
}
